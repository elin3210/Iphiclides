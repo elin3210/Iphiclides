{
 "cells": [
  {
   "cell_type": "code",
   "execution_count": 3,
   "metadata": {},
   "outputs": [],
   "source": [
    "# Import utility libraries\n",
    "from graphics import *\n",
    "from bisect import bisect\n",
    "import matplotlib.pyplot as plt\n",
    "import matplotlib.ticker as ticker\n",
    "\n",
    "# for Jupyter\n",
    "%matplotlib inline"
   ]
  },
  {
   "cell_type": "markdown",
   "metadata": {},
   "source": [
    "# Reading and Preparing the Data"
   ]
  },
  {
   "cell_type": "code",
   "execution_count": 1,
   "metadata": {},
   "outputs": [],
   "source": [
    "def data_from_file(name):\n",
    "    \"\"\"Read and parse the output of the relevant vcftools query\n",
    "    \n",
    "    We represent homozygous 0 as 0, heterozygous as 1 and homozygous 1 as 2\n",
    "    The rare entries with a 2 in the vcf are represented arbitrarily as 0.\n",
    "    \"\"\"\n",
    "    f = open(\"data/\"+name,\"r\")\n",
    "    s = f.read()\n",
    "    f.close()\n",
    "    lines = s.split(\"\\n\")\n",
    "    data = []\n",
    "    for l in lines:\n",
    "        words = l.split()\n",
    "        if len(words) == 2:\n",
    "            pos = int(words[0])\n",
    "            if (words[1] == '0/0') or '2' in words[1]:\n",
    "                data.append((pos,0))\n",
    "            elif words[1] == '0/1' or words[1] == '1/0':\n",
    "                data.append((pos,1))\n",
    "            elif words[1] == '1/1':\n",
    "                data.append((pos,2))\n",
    "    return sorted(data)\n",
    "\n",
    "def read_files(files):\n",
    "    \"\"\"Read multiple files\n",
    "    \n",
    "    and put the results (and, for convenience the filenames)\n",
    "    in a dictionary.\"\"\"\n",
    "    all_data = {}\n",
    "    for f in files:\n",
    "        all_data[f] = data_from_file(f)\n",
    "    all_data[\"filenames\"] = files\n",
    "    return all_data\n",
    "\n",
    "def add_diagnostics(data):\n",
    "    \"\"\"Add the list of diagnostic positions to the data.\"\"\"\n",
    "    diagnostic = set()\n",
    "    for f in data[\"filenames\"]:\n",
    "        for p in data[f]:\n",
    "            diagnostic.add(p[0])        \n",
    "    data[\"diagnostics\"] = sorted(diagnostic)"
   ]
  },
  {
   "cell_type": "code",
   "execution_count": 2,
   "metadata": {},
   "outputs": [],
   "source": [
    "# Read the actual data\n",
    "thefiles = [\"IF_1303\",\"IF_1306\",\"IF_1308\",\"IF_1322\",\"IF_1325\",\"IP_1330\"]\n",
    "all_data = read_files(thefiles)\n",
    "add_diagnostics(all_data)"
   ]
  },
  {
   "cell_type": "markdown",
   "metadata": {},
   "source": [
    "# Preparing the Chromosone Paintings\n",
    "## Some basic colour manipulations"
   ]
  },
  {
   "cell_type": "code",
   "execution_count": 3,
   "metadata": {},
   "outputs": [
    {
     "ename": "NameError",
     "evalue": "name 'color_rgb' is not defined",
     "output_type": "error",
     "traceback": [
      "\u001b[0;31m---------------------------------------------------------------------------\u001b[0m",
      "\u001b[0;31mNameError\u001b[0m                                 Traceback (most recent call last)",
      "\u001b[0;32m<ipython-input-3-7cce3609a36b>\u001b[0m in \u001b[0;36m<module>\u001b[0;34m\u001b[0m\n\u001b[1;32m     30\u001b[0m \u001b[0;31m# Red, yellow and blue -- representing homozygous 0, heterozygous and homozygous 1\u001b[0m\u001b[0;34m\u001b[0m\u001b[0;34m\u001b[0m\u001b[0;34m\u001b[0m\u001b[0m\n\u001b[1;32m     31\u001b[0m \u001b[0;34m\u001b[0m\u001b[0m\n\u001b[0;32m---> 32\u001b[0;31m basecols = [color_rgb(255,0,0), color_rgb(255,255,0),\n\u001b[0m\u001b[1;32m     33\u001b[0m             color_rgb(0,0,255)]\n",
      "\u001b[0;31mNameError\u001b[0m: name 'color_rgb' is not defined"
     ]
    }
   ],
   "source": [
    "def rgb_color(col):\n",
    "    \"\"\"Convert a colour from Hex format into a list of three integers\n",
    "    \n",
    "    Opposite of the library function color_rgb.\"\"\"\n",
    "    return [int(col[1:3],16),int(col[3:5],16),\n",
    "            int(col[5:7],16)]\n",
    "\n",
    "def blend(colours, weights):\n",
    "    \"\"\"Blend colours together in proportion to weights\n",
    "    \n",
    "    Used to find the colour of each bucket in the painting.\"\"\"\n",
    "    totwt = sum(weights)\n",
    "    if totwt == 0:\n",
    "        return color_rgb(0,0,0)\n",
    "    n = len(weights)\n",
    "    cols = [rgb_color(c) for c in colours]\n",
    "    b = [sum([cols[i][j]*weights[i] for i in range(n)])//totwt \n",
    "         for j in range(3)]\n",
    "    return color_rgb(b[0],b[1],b[2])\n",
    "\n",
    "def dim(color, ratio):\n",
    "    \"\"\"Adjust a colour's brightnes by a factor of ratio\n",
    "    \n",
    "    Was used in an earlier version of diagrams.\"\"\"\n",
    "    rgb = rgb_color(color)\n",
    "    return color_rgb(int(rgb[0]*ratio),\n",
    "                     int(rgb[1]*ratio),\n",
    "                     int(rgb[2]*ratio))\n",
    "\n",
    "# Red, yellow and blue -- representing homozygous 0, heterozygous and homozygous 1\n",
    "\n",
    "basecols = [color_rgb(255,0,0), color_rgb(255,255,0),\n",
    "            color_rgb(0,0,255)]"
   ]
  },
  {
   "cell_type": "markdown",
   "metadata": {},
   "source": [
    "## Chromosone Painting"
   ]
  },
  {
   "cell_type": "code",
   "execution_count": null,
   "metadata": {},
   "outputs": [],
   "source": [
    "def colours(scores, dodim):\n",
    "    \"\"\"Convert a triple of counts into a colour\n",
    "    \n",
    "    mixing the three base colours and (if dodim is set)\n",
    "    adjusting brightness to reflect the number of \n",
    "    non-diagnostic sites in that block.\"\"\"\n",
    "    cols = [blend(basecols,s) for s in scores]\n",
    "    if dodim:\n",
    "        maxscore = max([sum(s) for s in scores])   \n",
    "        return [dim(cols[i],sum(scores[i])/maxscore) \n",
    "                for i in range(len(scores))]\n",
    "    return cols"
   ]
  },
  {
   "cell_type": "markdown",
   "metadata": {},
   "source": [
    "### Version 1 -- including non-diagnostic sites\n",
    "\n",
    "This version is no longer used in the final graphics-drawing functions below"
   ]
  },
  {
   "cell_type": "code",
   "execution_count": null,
   "metadata": {},
   "outputs": [],
   "source": [
    "def score(data,buckets):\n",
    "    \"\"\"Count the number of diagnotic sites of each type in each bucket\n",
    "    \n",
    "    A bucket is just a range of positions on the chromosone.\"\"\"\n",
    "    maxind = data[-1][0]+1\n",
    "    scores = [[0,0,0] for i in range(buckets)]\n",
    "    for d in data:\n",
    "        b = d[0]*buckets//maxind\n",
    "        scores[b][d[1]] += 1\n",
    "    return scores\n",
    "  \n",
    "def batch(data,buckets,dodim):\n",
    "    \"\"\"Proces a set of data into a sequence of colours.\"\"\"\n",
    "    return colours(score(data,buckets),dodim)\n",
    "    "
   ]
  },
  {
   "cell_type": "markdown",
   "metadata": {},
   "source": [
    "### Version 2 -- excluding non-diagnostic sites."
   ]
  },
  {
   "cell_type": "code",
   "execution_count": null,
   "metadata": {},
   "outputs": [],
   "source": [
    "def score2(data,buckets):\n",
    "    \"\"\"Count the diagnostic sites of each type within a bucket\n",
    "    \n",
    "    In this version the buckets divide up the diagnostic sites equally, \n",
    "    rather than dividing the whole chromosone equally.\"\"\"\n",
    "    dia = all_data[\"diagnostics\"]\n",
    "    block = len(dia)//buckets\n",
    "    boundaries = [dia[block*i] for i in range(buckets)]\n",
    "    boundaries.append(1000000000)\n",
    "    scores = [[0,0,0] for i in range(buckets)]\n",
    "    buck = 0;\n",
    "    for d in data:\n",
    "        while d[0] >= boundaries[buck+1]:\n",
    "            buck += 1\n",
    "        scores[buck][d[1]] += 1\n",
    "    return scores\n",
    " \n",
    "def batch2(data,buckets,dodim):\n",
    "    \"\"\"Process a set of data into a sequence of colours \n",
    "   \n",
    "    using score2.\"\"\" \n",
    "    return colours(score2(data,buckets),dodim)"
   ]
  },
  {
   "cell_type": "markdown",
   "metadata": {},
   "source": [
    "## Actual functions to draw the painted chromosones\n",
    "These work with the score2 version above"
   ]
  },
  {
   "cell_type": "code",
   "execution_count": null,
   "metadata": {},
   "outputs": [],
   "source": [
    "def drawDScale(win,top,left,w,dia):\n",
    "    \"\"\"Draw the even scale of diagnostic poitiont to go above the bars.\"\"\"\n",
    "    block = len(dia)//w\n",
    "    Line(Point(left,top),Point(left+w, top)).draw(win)\n",
    "    Text(Point(left+w//2 - 30, top -40),\"Diagnostic Position Number\").draw(win)\n",
    "    for i in range(w//100+1):\n",
    "        Line(Point(left+100*i,top),Point(left+100*i, top+20)).draw(win)\n",
    "        Text(Point(left+100*i-5, top -20),str(block*i*100)).draw(win)\n",
    "    for i in range(w//10+1):\n",
    "        Line(Point(left+10*i,top),Point(left+10*i,top+10)).draw(win)\n",
    "    win.update()\n",
    "\n",
    "\n",
    "def drawAScale(win, bottom, left, w, dia):\n",
    "    \"\"\"Draw the uneven scale of  poition on the chromosone to go below the bars.\"\"\"\n",
    "    block = 50000    \n",
    "    Line(Point(left,bottom),Point(left+w, bottom)).draw(win)\n",
    "    Text(Point(left+w//2 - 30, bottom +40),\"Absolute Position Number\").draw(win)\n",
    "    for i in range(dia[-2]//block):\n",
    "        x = bisect(dia, i*block)*w//len(dia)\n",
    "        if i % 10 == 0:\n",
    "            Line(Point(left+x,bottom),\n",
    "                 Point(left+x, bottom-20)).draw(win)\n",
    "            Text(Point(left+x-5, bottom + 20),\n",
    "                 str(block*i//1000)+\"K\").draw(win)\n",
    "        else:\n",
    "             Line(Point(left+x,bottom),\n",
    "                 Point(left+x, bottom-10)).draw(win)\n",
    "    win.update()             \n",
    "                \n",
    "def display(data,dodim,sep,margins,w,h):\n",
    "    \"\"\"Assemble the whole display\n",
    "    \n",
    "    This appears in a separate window. This graphics library doesn't appear \n",
    "    to be suypported by Jupyter for inline plotting.    \"\"\"\n",
    "    files = data[\"filenames\"]\n",
    "    nf = len(files)\n",
    "    win = GraphWin(width=w+2*margins,\n",
    "                   height=(h+sep)*nf - sep + 2*margins,\n",
    "                   autoflush=False)\n",
    "    for j in range(nf):        \n",
    "        cols = batch2(data[files[j]], w, dodim)\n",
    "        for i in range(w):\n",
    "            l = Rectangle(Point(margins+i,margins+(h+sep)*j),\n",
    "                          Point(margins+i,h+margins+(h+sep)*j))\n",
    "            l.setOutline(cols[i])\n",
    "            l.draw(win)\n",
    "        win.update()\n",
    "    drawAScale(win, 30 + margins + (h+sep)*nf - sep, margins, w, data[\"diagnostics\"])\n",
    "    drawDScale(win, margins - 30, margins, w, data[\"diagnostics\"])\n",
    "    return win\n"
   ]
  },
  {
   "cell_type": "code",
   "execution_count": null,
   "metadata": {},
   "outputs": [],
   "source": [
    "#win.close()\n",
    "win = display(all_data,False,20,100,2000,80)"
   ]
  },
  {
   "cell_type": "markdown",
   "metadata": {},
   "source": [
    "# Calculate and Display Run Lengths\n",
    "## Calculations"
   ]
  },
  {
   "cell_type": "code",
   "execution_count": null,
   "metadata": {},
   "outputs": [],
   "source": [
    "\n",
    "def runs(data):\n",
    "    \"\"\"Divide data up into runs of the second component of each entry\n",
    "    \n",
    "    returns a list of (start position, length, value) tuples.\"\"\"\n",
    "    runs = []\n",
    "    i = 0\n",
    "    while i < len(data):\n",
    "        runstart = i\n",
    "        runval = data[i][1]\n",
    "        while (i < len(data) and \n",
    "            data[i][1] == runval):\n",
    "                i += 1\n",
    "        runs.append((runstart, i - runstart, runval))\n",
    "    return runs\n",
    "\n",
    "def realrunlength(x,dia):\n",
    "    \"\"\"Calculate a run length in terms of actual base pairs\n",
    "    \n",
    "    rather than diagnostic sites.\"\"\"\n",
    "    return (x[0],x[1],dia[x[0]+x[1]] - dia[x[0]])\n",
    "\n",
    "def hetrunlengths(runs,threshold,dia):\n",
    "    \"\"\"Extract the sequence of real lengths of heterogenous runs\n",
    "    \n",
    "    Ignores all intrusions of length <= threshold.\"\"\"\n",
    "    lens = []\n",
    "    i = 0\n",
    "    while i < len(runs): \n",
    "        if runs[i][2] == 1:\n",
    "            l = runs[i][1]\n",
    "            j = i+1\n",
    "            skipped = 0\n",
    "            while True:\n",
    "                if j >= len(runs):\n",
    "                    if l+skipped > threshold:\n",
    "                        lens.append(realrunlength((runs[i][0],l+skipped),dia))\n",
    "                    i = j\n",
    "                    break\n",
    "                if runs[j][2] != 1:\n",
    "                    skipped += runs[j][1]\n",
    "                    j += 1\n",
    "                    if skipped > threshold:\n",
    "                        if l > threshold:\n",
    "                            lens.append(realrunlength((runs[i][0],l),dia))\n",
    "                        i = j\n",
    "                        break\n",
    "                else: \n",
    "                    l += skipped + runs[j][1]\n",
    "                    j += 1\n",
    "                    skipped = 0\n",
    "        else:\n",
    "            i += 1\n",
    "    return lens\n",
    "\n",
    "llr = range(0,20) #range of log_2(length) that we consider \n",
    "               \n",
    "                        \n",
    "def rldist(rls):\n",
    "    \"\"\"Sort the run lengths into buckets\n",
    "    \n",
    "    Each bucket covers a power of 2. So the first bucket is < 8 then\n",
    "    8..15, 16..32, etc.\"\"\"\n",
    "    pows = [2**i+0.5 for i in llr]\n",
    "    return [bisect(pows,x[2]) for x in rls]\n",
    "\n",
    "def freqs(data):\n",
    "    \"\"\"Count the freqency of each bucket.\"\"\"\n",
    "    f = [0 for i in llr]\n",
    "    for d in data:\n",
    "        f[d] += 1\n",
    "    return f\n",
    "        "
   ]
  },
  {
   "cell_type": "markdown",
   "metadata": {},
   "source": [
    "## Display"
   ]
  },
  {
   "cell_type": "code",
   "execution_count": null,
   "metadata": {},
   "outputs": [],
   "source": [
    "\n",
    "    \n",
    "def plotfreqs(ax, f, title):\n",
    "    \"\"\"Plot a set of frwq\"\"\"\n",
    "    pows = [2**x/1000.0 for x in llr]\n",
    "    ax.bar(pows,f,width=[0.6*x for x in pows])\n",
    "    ax.set_xscale('log')\n",
    "    ax.set_xlabel(\"run length (kBases)\")\n",
    "    ax.tick_params(axis='y', labelleft = True)\n",
    "    ax.set_ylabel(\"number of runs\")\n",
    "    ax.xaxis.set_major_formatter(ticker.FuncFormatter(lambda y, _: '{:g}'.format(y)))\n",
    "    ax.set_title(title)\n",
    "\n",
    "\n",
    "def rlgraph(data,id, ax, thresh):\n",
    "    \"\"\"Plot a single runlength histogram on axes ax.\"\"\"\n",
    "    r = runs(data[id])\n",
    "    h = hetrunlengths(r,thresh,data[\"diagnostics\"])\n",
    "    f = freqs(rldist(h))\n",
    "    plotfreqs(ax,f,id)\n",
    "\n",
    "def all_graphs(data, thresh):\n",
    "    \"\"\"Plot graphs for all six data sets.\"\"\"\n",
    "    fig,ax = plt.subplots(3,2, figsize=(15,15), sharey=True)\n",
    "    fig.tight_layout(pad=5.0)\n",
    "    rlgraph(data,'IF_1303',ax[0,0],thresh)\n",
    "    rlgraph(data,'IF_1306',ax[0,1],thresh)\n",
    "    rlgraph(data,'IF_1308',ax[1,0],thresh)\n",
    "    rlgraph(data,'IF_1322',ax[1,1],thresh)\n",
    "    rlgraph(data,'IF_1325',ax[2,0],thresh)\n",
    "    rlgraph(data,'IP_1330',ax[2,1],thresh)\n",
    "    return fig\n",
    "    \n",
    "def combined_graph(data, thresh):\n",
    "    \"\"\"plot a single graph combining the run length data from all data sets.\"\"\"\n",
    "    f = [freqs(rldist(hetrunlengths(runs(data[f]), thresh, data[\"diagnostics\"]))) \n",
    "                          for f in data[\"filenames\"]]\n",
    "    sumfreqs = [sum([f[j][i] for j in range(len(f))]) \n",
    "                for i in range(len(f[1]))]\n",
    "    fig, ax = plt.subplots(figsize = (15,15))\n",
    "    plotfreqs(ax,sumfreqs, \"Combined Run Lengths\")\n",
    "    return fig"
   ]
  },
  {
   "cell_type": "code",
   "execution_count": null,
   "metadata": {},
   "outputs": [],
   "source": [
    "figall = all_graphs(all_data,2)\n",
    "plt.savefig(\"separate.png\")"
   ]
  },
  {
   "cell_type": "code",
   "execution_count": null,
   "metadata": {},
   "outputs": [],
   "source": [
    "figcomb = combined_graph(all_data, 2)\n",
    "plt.savefig(\"combined.png\")"
   ]
  },
  {
   "cell_type": "code",
   "execution_count": null,
   "metadata": {},
   "outputs": [],
   "source": []
  },
  {
   "cell_type": "code",
   "execution_count": null,
   "metadata": {},
   "outputs": [],
   "source": []
  }
 ],
 "metadata": {
  "kernelspec": {
   "display_name": "Python 3",
   "language": "python",
   "name": "python3"
  },
  "language_info": {
   "codemirror_mode": {
    "name": "ipython",
    "version": 3
   },
   "file_extension": ".py",
   "mimetype": "text/x-python",
   "name": "python",
   "nbconvert_exporter": "python",
   "pygments_lexer": "ipython3",
   "version": "3.7.7"
  }
 },
 "nbformat": 4,
 "nbformat_minor": 4
}
